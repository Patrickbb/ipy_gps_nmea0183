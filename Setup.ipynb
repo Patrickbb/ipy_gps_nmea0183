{
 "cells": [
  {
   "cell_type": "markdown",
   "metadata": {},
   "source": [
    "### 0.安裝Python\n",
    "[官方下載](https://www.python.org/downloads/)"
   ]
  },
  {
   "cell_type": "markdown",
   "metadata": {},
   "source": [
    "#### 1.選擇 Python Interpreter\n",
    "\n",
    "在 View >> Command Palette >> Python: Select Interpreter >> 從現有的 Python 中選擇一個"
   ]
  },
  {
   "cell_type": "markdown",
   "metadata": {},
   "source": [
    "### 2.建立虛擬環境\n",
    "\n",
    "\n",
    "為了使用前一步設定的 Python，必須重新開啟 Terminal，才會套用新的設定，在新的 Terminal 中執行下面指令\n",
    "\n",
    "```bash\n",
    "$ python --version\n",
    "Python 3.*.*\n",
    "```\n",
    "\n",
    "如果有出現版本資訊，表示有找到可執行的 Python，然後執行建立虛擬環境指令\n",
    "\n",
    "```bash\n",
    "syntax: python -m venv [[directory for virtual environment]]\n",
    "$ python -m venv env\n",
    "```\n",
    "然後目錄中就會出現一個env的目錄，用來存放虛擬環境的資料，再次執行步驟1的Python Interpreter設定，這次選擇env這個Python，然後再次重新開啟Terminal，以套用新的設定(新建的虛擬環境)，後續的套件都會安裝在這個環境中"
   ]
  },
  {
   "cell_type": "markdown",
   "metadata": {},
   "source": [
    "### 3.安裝 Jupyter Notebook Kernel (ipykernel)\n",
    "在 Terminal 中執行下面指令\n",
    "\n",
    "```bash\n",
    "$ pip install ipykernel\n",
    "```\n",
    "Jupyter Notebook可以開始使用了"
   ]
  },
  {
   "cell_type": "code",
   "execution_count": 1,
   "metadata": {},
   "outputs": [
    {
     "name": "stdout",
     "output_type": "stream",
     "text": [
      "Hello Jupyter Notebook!!\n"
     ]
    }
   ],
   "source": [
    "# 執行指令試試看\n",
    "print(\"Hello Jupyter Notebook!!\")"
   ]
  }
 ],
 "metadata": {
  "interpreter": {
   "hash": "df93e09743f41e6c6d51aff91c57499b07219ab6901af2358b4688771820927e"
  },
  "kernelspec": {
   "display_name": "Python 3.9.7 64-bit ('env': venv)",
   "language": "python",
   "name": "python3"
  },
  "language_info": {
   "codemirror_mode": {
    "name": "ipython",
    "version": 3
   },
   "file_extension": ".py",
   "mimetype": "text/x-python",
   "name": "python",
   "nbconvert_exporter": "python",
   "pygments_lexer": "ipython3",
   "version": "3.10.1"
  },
  "orig_nbformat": 4
 },
 "nbformat": 4,
 "nbformat_minor": 2
}
